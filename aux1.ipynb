{
 "cells": [
  {
   "cell_type": "code",
   "execution_count": 8,
   "metadata": {},
   "outputs": [
    {
     "name": "stdout",
     "output_type": "stream",
     "text": [
      "True\n"
     ]
    }
   ],
   "source": [
    "#P1\n",
    "\n",
    "#Recursividad\n",
    "def es_potencia_4(n):\n",
    "    if n<1:\n",
    "        return False\n",
    "    \n",
    "    if n==1:\n",
    "        return True\n",
    "    \n",
    "    if n % 4 == 0:\n",
    "        return es_potencia_4(n/4)\n",
    "    else:\n",
    "        return False\n",
    "\n",
    "    \n",
    "print(es_potencia_4(64*4*4*4))"
   ]
  },
  {
   "cell_type": "code",
   "execution_count": 13,
   "metadata": {},
   "outputs": [
    {
     "name": "stdout",
     "output_type": "stream",
     "text": [
      "True\n"
     ]
    }
   ],
   "source": [
    "#Iteratividad\n",
    "def es_potencia_4(n):\n",
    "    if n<1:\n",
    "        return False\n",
    "    \n",
    "    if n==1:\n",
    "        return True\n",
    "    \n",
    "    while n > 1:\n",
    "         if n % 4 == 0:\n",
    "             n=n/4\n",
    "         else:\n",
    "             return False\n",
    "    return True\n",
    "    \n",
    "print(es_potencia_4(4*4))"
   ]
  },
  {
   "cell_type": "markdown",
   "metadata": {},
   "source": [
    "Todos los programas iterativos se pueden convertir en recursivos y viceversa, son equivalentes."
   ]
  },
  {
   "cell_type": "code",
   "execution_count": 20,
   "metadata": {},
   "outputs": [
    {
     "data": {
      "text/plain": [
       "True"
      ]
     },
     "execution_count": 20,
     "metadata": {},
     "output_type": "execute_result"
    }
   ],
   "source": [
    "#P2 \n",
    "#Caso bruto\n",
    "def es_primo(n):\n",
    "    if n==1:\n",
    "        return False\n",
    "    \n",
    "    for i in range(2,n):\n",
    "       if n % i == 0:\n",
    "        return False \n",
    "       \n",
    "    return True\n",
    "\n",
    "es_primo(3)"
   ]
  },
  {
   "cell_type": "code",
   "execution_count": 25,
   "metadata": {},
   "outputs": [
    {
     "data": {
      "text/plain": [
       "True"
      ]
     },
     "execution_count": 25,
     "metadata": {},
     "output_type": "execute_result"
    }
   ],
   "source": [
    "import math\n",
    "#Caso vivo\n",
    "def es_primo(n):\n",
    "    if n==1:\n",
    "        return False\n",
    "    \n",
    "    for i in range(2,int(math.sqrt(n)) + 1):\n",
    "       if n % i == 0:\n",
    "        return False \n",
    "       \n",
    "    return True\n",
    "\n",
    "es_primo(10000019)"
   ]
  },
  {
   "cell_type": "code",
   "execution_count": 38,
   "metadata": {},
   "outputs": [],
   "source": [
    "#P3\n",
    "\n",
    "class Pokemon:\n",
    "    def __init__(self, nombre, max_hp):  #constructor que inicializa las variables\n",
    "        self.nombre = nombre\n",
    "        self.max_hp = max_hp\n",
    "        self.hp = max_hp\n",
    "\n",
    "    def set_hp(self, hp):\n",
    "        #if hp<self.max_hp and 0 <= hp:\n",
    "            #self.hp = hp\n",
    "\n",
    "        self.hp = min(hp, self.max_hp) # se decide acotar el valor\n",
    "        self.hp = max(hp, 0)\n",
    "\n",
    "    def atacar(self, titin):\n",
    "        titin.set_hp(titin.hp - 10)\n",
    "\n",
    "    def estado_pokemon(self):\n",
    "        if self.hp==0:\n",
    "            return True\n",
    "        return False\n",
    "\n",
    "\n",
    "\n"
   ]
  },
  {
   "cell_type": "code",
   "execution_count": 44,
   "metadata": {},
   "outputs": [
    {
     "name": "stdout",
     "output_type": "stream",
     "text": [
      "que aweonao se murió el titin\n",
      "que aweonao se murió el titin\n"
     ]
    }
   ],
   "source": [
    "titin = Pokemon(\"titin\", 5)\n",
    "seba = Pokemon(\"seba\", 20000000)\n",
    "\n",
    "while not (titin.estado_pokemon()) and not (seba.estado_pokemon()):\n",
    "    seba.atacar(titin)\n",
    "    if titin.estado_pokemon():\n",
    "        print(\"que aweonao se murió el titin\")\n",
    "\n",
    "    titin.atacar(titin)\n",
    "    if titin.estado_pokemon():\n",
    "        print(\"que aweonao se murió el titin\")\n"
   ]
  }
 ],
 "metadata": {
  "kernelspec": {
   "display_name": "Python 3",
   "language": "python",
   "name": "python3"
  },
  "language_info": {
   "codemirror_mode": {
    "name": "ipython",
    "version": 3
   },
   "file_extension": ".py",
   "mimetype": "text/x-python",
   "name": "python",
   "nbconvert_exporter": "python",
   "pygments_lexer": "ipython3",
   "version": "3.12.4"
  }
 },
 "nbformat": 4,
 "nbformat_minor": 2
}
